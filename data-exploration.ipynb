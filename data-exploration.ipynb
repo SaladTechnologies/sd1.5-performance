{
 "cells": [
  {
   "cell_type": "code",
   "execution_count": 3,
   "metadata": {},
   "outputs": [
    {
     "name": "stdout",
     "output_type": "stream",
     "text": [
      "Defaulting to user installation because normal site-packages is not writeable\n",
      "Requirement already satisfied: boto3 in /home/shawn/.local/lib/python3.10/site-packages (1.28.62)\n",
      "Requirement already satisfied: pandas in /home/shawn/.local/lib/python3.10/site-packages (2.1.1)\n",
      "Requirement already satisfied: plotly in /home/shawn/.local/lib/python3.10/site-packages (5.17.0)\n",
      "Requirement already satisfied: requests in /home/shawn/.local/lib/python3.10/site-packages (2.31.0)\n",
      "Requirement already satisfied: pillow in /home/shawn/.local/lib/python3.10/site-packages (10.0.1)\n",
      "Requirement already satisfied: tabulate in /home/shawn/.local/lib/python3.10/site-packages (0.9.0)\n",
      "Requirement already satisfied: kaleido in /home/shawn/.local/lib/python3.10/site-packages (0.2.1)\n",
      "Requirement already satisfied: nbformat in /home/shawn/.local/lib/python3.10/site-packages (5.9.2)\n",
      "Requirement already satisfied: ipython in /home/shawn/.local/lib/python3.10/site-packages (8.16.1)\n",
      "Requirement already satisfied: jmespath<2.0.0,>=0.7.1 in /home/shawn/.local/lib/python3.10/site-packages (from boto3) (1.0.1)\n",
      "Requirement already satisfied: botocore<1.32.0,>=1.31.62 in /home/shawn/.local/lib/python3.10/site-packages (from boto3) (1.31.62)\n",
      "Requirement already satisfied: s3transfer<0.8.0,>=0.7.0 in /home/shawn/.local/lib/python3.10/site-packages (from boto3) (0.7.0)\n",
      "Requirement already satisfied: tzdata>=2022.1 in /home/shawn/.local/lib/python3.10/site-packages (from pandas) (2023.3)\n",
      "Requirement already satisfied: numpy>=1.22.4 in /home/shawn/.local/lib/python3.10/site-packages (from pandas) (1.25.2)\n",
      "Requirement already satisfied: pytz>=2020.1 in /home/shawn/.local/lib/python3.10/site-packages (from pandas) (2023.3.post1)\n",
      "Requirement already satisfied: python-dateutil>=2.8.2 in /home/shawn/.local/lib/python3.10/site-packages (from pandas) (2.8.2)\n",
      "Requirement already satisfied: packaging in /home/shawn/.local/lib/python3.10/site-packages (from plotly) (23.1)\n",
      "Requirement already satisfied: tenacity>=6.2.0 in /home/shawn/.local/lib/python3.10/site-packages (from plotly) (8.2.3)\n",
      "Requirement already satisfied: certifi>=2017.4.17 in /home/shawn/.local/lib/python3.10/site-packages (from requests) (2023.7.22)\n",
      "Requirement already satisfied: urllib3<3,>=1.21.1 in /home/shawn/.local/lib/python3.10/site-packages (from requests) (2.0.4)\n",
      "Requirement already satisfied: charset-normalizer<4,>=2 in /home/shawn/.local/lib/python3.10/site-packages (from requests) (3.2.0)\n",
      "Requirement already satisfied: idna<4,>=2.5 in /home/shawn/.local/lib/python3.10/site-packages (from requests) (3.4)\n",
      "Requirement already satisfied: traitlets>=5.1 in /home/shawn/.local/lib/python3.10/site-packages (from nbformat) (5.11.2)\n",
      "Requirement already satisfied: fastjsonschema in /home/shawn/.local/lib/python3.10/site-packages (from nbformat) (2.18.1)\n",
      "Requirement already satisfied: jupyter-core in /home/shawn/.local/lib/python3.10/site-packages (from nbformat) (5.4.0)\n",
      "Requirement already satisfied: jsonschema>=2.6 in /home/shawn/.local/lib/python3.10/site-packages (from nbformat) (4.19.1)\n",
      "Requirement already satisfied: jedi>=0.16 in /home/shawn/.local/lib/python3.10/site-packages (from ipython) (0.19.1)\n",
      "Requirement already satisfied: prompt-toolkit!=3.0.37,<3.1.0,>=3.0.30 in /home/shawn/.local/lib/python3.10/site-packages (from ipython) (3.0.39)\n",
      "Requirement already satisfied: pickleshare in /home/shawn/.local/lib/python3.10/site-packages (from ipython) (0.7.5)\n",
      "Requirement already satisfied: stack-data in /home/shawn/.local/lib/python3.10/site-packages (from ipython) (0.6.3)\n",
      "Requirement already satisfied: matplotlib-inline in /home/shawn/.local/lib/python3.10/site-packages (from ipython) (0.1.6)\n",
      "Requirement already satisfied: backcall in /home/shawn/.local/lib/python3.10/site-packages (from ipython) (0.2.0)\n",
      "Requirement already satisfied: pygments>=2.4.0 in /home/shawn/.local/lib/python3.10/site-packages (from ipython) (2.16.1)\n",
      "Requirement already satisfied: pexpect>4.3 in /home/shawn/.local/lib/python3.10/site-packages (from ipython) (4.8.0)\n",
      "Requirement already satisfied: decorator in /home/shawn/.local/lib/python3.10/site-packages (from ipython) (5.1.1)\n",
      "Requirement already satisfied: exceptiongroup in /home/shawn/.local/lib/python3.10/site-packages (from ipython) (1.1.3)\n",
      "Requirement already satisfied: parso<0.9.0,>=0.8.3 in /home/shawn/.local/lib/python3.10/site-packages (from jedi>=0.16->ipython) (0.8.3)\n",
      "Requirement already satisfied: jsonschema-specifications>=2023.03.6 in /home/shawn/.local/lib/python3.10/site-packages (from jsonschema>=2.6->nbformat) (2023.7.1)\n",
      "Requirement already satisfied: attrs>=22.2.0 in /home/shawn/.local/lib/python3.10/site-packages (from jsonschema>=2.6->nbformat) (23.1.0)\n",
      "Requirement already satisfied: referencing>=0.28.4 in /home/shawn/.local/lib/python3.10/site-packages (from jsonschema>=2.6->nbformat) (0.30.2)\n",
      "Requirement already satisfied: rpds-py>=0.7.1 in /home/shawn/.local/lib/python3.10/site-packages (from jsonschema>=2.6->nbformat) (0.10.4)\n",
      "Requirement already satisfied: ptyprocess>=0.5 in /home/shawn/.local/lib/python3.10/site-packages (from pexpect>4.3->ipython) (0.7.0)\n",
      "Requirement already satisfied: wcwidth in /home/shawn/.local/lib/python3.10/site-packages (from prompt-toolkit!=3.0.37,<3.1.0,>=3.0.30->ipython) (0.2.6)\n",
      "Requirement already satisfied: six>=1.5 in /usr/lib/python3/dist-packages (from python-dateutil>=2.8.2->pandas) (1.16.0)\n",
      "Requirement already satisfied: platformdirs>=2.5 in /home/shawn/.local/lib/python3.10/site-packages (from jupyter-core->nbformat) (3.11.0)\n",
      "Requirement already satisfied: executing>=1.2.0 in /home/shawn/.local/lib/python3.10/site-packages (from stack-data->ipython) (2.0.0)\n",
      "Requirement already satisfied: pure-eval in /home/shawn/.local/lib/python3.10/site-packages (from stack-data->ipython) (0.2.2)\n",
      "Requirement already satisfied: asttokens>=2.1.0 in /home/shawn/.local/lib/python3.10/site-packages (from stack-data->ipython) (2.4.0)\n",
      "Note: you may need to restart the kernel to use updated packages.\n"
     ]
    }
   ],
   "source": [
    "%pip install boto3 pandas plotly requests pillow tabulate kaleido nbformat ipython"
   ]
  },
  {
   "cell_type": "code",
   "execution_count": 2,
   "metadata": {},
   "outputs": [],
   "source": [
    "import json\n",
    "import plotly.express as px\n",
    "import plotly.graph_objects as go\n",
    "import pandas as pd\n",
    "import ast\n",
    "\n",
    "from utils import get_df_for_benchmark, performance_score, shorten_gpu_name"
   ]
  },
  {
   "cell_type": "code",
   "execution_count": null,
   "metadata": {},
   "outputs": [],
   "source": [
    "benchmark_id = \"benchmark-id-1\"\n",
    "\n",
    "# if data-1.csv exists, load it\n",
    "try:\n",
    "    print(\"Loading data from data-1.csv\")\n",
    "    df = pd.read_csv(\"./data-1.csv\")\n",
    "    df[\"timestamp\"] = pd.to_datetime(df[\"timestamp\"])\n",
    "except FileNotFoundError:\n",
    "    # otherwise, get the data from the API\n",
    "    print(\"Cached CSV not found. Loading data from DynamoDB\")\n",
    "    df = get_df_for_benchmark(benchmark_id)\n",
    "    df[\"gpu\"] = df[\"gpu\"].apply(shorten_gpu_name)\n",
    "    df[\"performance_score\"] = df[\"gpu\"].apply(performance_score)\n",
    "    df.to_csv(\"./data-1.csv\", index=False)\n",
    "except Exception as e:\n",
    "    print(\"Error loading data from CSV.\")\n",
    "    print(e)\n",
    "\n",
    "df.info()"
   ]
  },
  {
   "cell_type": "code",
   "execution_count": null,
   "metadata": {},
   "outputs": [],
   "source": [
    "df.head(5)"
   ]
  }
 ],
 "metadata": {
  "kernelspec": {
   "display_name": ".venv",
   "language": "python",
   "name": "python3"
  },
  "language_info": {
   "codemirror_mode": {
    "name": "ipython",
    "version": 3
   },
   "file_extension": ".py",
   "mimetype": "text/x-python",
   "name": "python",
   "nbconvert_exporter": "python",
   "pygments_lexer": "ipython3",
   "version": "3.10.12"
  }
 },
 "nbformat": 4,
 "nbformat_minor": 2
}
