{
 "cells": [
  {
   "cell_type": "code",
   "execution_count": 1,
   "metadata": {},
   "outputs": [
    {
     "name": "stdout",
     "output_type": "stream",
     "text": [
      "Defaulting to user installation because normal site-packages is not writeable\n",
      "Requirement already satisfied: aioboto3 in /home/shawn/.local/lib/python3.10/site-packages (11.3.0)\n",
      "Requirement already satisfied: aiobotocore[boto3]==2.6.0 in /home/shawn/.local/lib/python3.10/site-packages (from aioboto3) (2.6.0)\n",
      "Requirement already satisfied: wrapt<2.0.0,>=1.10.10 in /home/shawn/.local/lib/python3.10/site-packages (from aiobotocore[boto3]==2.6.0->aioboto3) (1.15.0)\n",
      "Requirement already satisfied: botocore<1.31.18,>=1.31.17 in /home/shawn/.local/lib/python3.10/site-packages (from aiobotocore[boto3]==2.6.0->aioboto3) (1.31.17)\n",
      "Requirement already satisfied: aiohttp<4.0.0,>=3.7.4.post0 in /home/shawn/.local/lib/python3.10/site-packages (from aiobotocore[boto3]==2.6.0->aioboto3) (3.8.6)\n",
      "Requirement already satisfied: aioitertools<1.0.0,>=0.5.1 in /home/shawn/.local/lib/python3.10/site-packages (from aiobotocore[boto3]==2.6.0->aioboto3) (0.11.0)\n",
      "Requirement already satisfied: boto3<1.28.18,>=1.28.17 in /home/shawn/.local/lib/python3.10/site-packages (from aiobotocore[boto3]==2.6.0->aioboto3) (1.28.17)\n",
      "Requirement already satisfied: multidict<7.0,>=4.5 in /home/shawn/.local/lib/python3.10/site-packages (from aiohttp<4.0.0,>=3.7.4.post0->aiobotocore[boto3]==2.6.0->aioboto3) (6.0.4)\n",
      "Requirement already satisfied: yarl<2.0,>=1.0 in /home/shawn/.local/lib/python3.10/site-packages (from aiohttp<4.0.0,>=3.7.4.post0->aiobotocore[boto3]==2.6.0->aioboto3) (1.9.2)\n",
      "Requirement already satisfied: attrs>=17.3.0 in /home/shawn/.local/lib/python3.10/site-packages (from aiohttp<4.0.0,>=3.7.4.post0->aiobotocore[boto3]==2.6.0->aioboto3) (23.1.0)\n",
      "Requirement already satisfied: async-timeout<5.0,>=4.0.0a3 in /home/shawn/.local/lib/python3.10/site-packages (from aiohttp<4.0.0,>=3.7.4.post0->aiobotocore[boto3]==2.6.0->aioboto3) (4.0.3)\n",
      "Requirement already satisfied: charset-normalizer<4.0,>=2.0 in /home/shawn/.local/lib/python3.10/site-packages (from aiohttp<4.0.0,>=3.7.4.post0->aiobotocore[boto3]==2.6.0->aioboto3) (3.2.0)\n",
      "Requirement already satisfied: frozenlist>=1.1.1 in /home/shawn/.local/lib/python3.10/site-packages (from aiohttp<4.0.0,>=3.7.4.post0->aiobotocore[boto3]==2.6.0->aioboto3) (1.4.0)\n",
      "Requirement already satisfied: aiosignal>=1.1.2 in /home/shawn/.local/lib/python3.10/site-packages (from aiohttp<4.0.0,>=3.7.4.post0->aiobotocore[boto3]==2.6.0->aioboto3) (1.3.1)\n",
      "Requirement already satisfied: jmespath<2.0.0,>=0.7.1 in /home/shawn/.local/lib/python3.10/site-packages (from boto3<1.28.18,>=1.28.17->aiobotocore[boto3]==2.6.0->aioboto3) (1.0.1)\n",
      "Requirement already satisfied: s3transfer<0.7.0,>=0.6.0 in /home/shawn/.local/lib/python3.10/site-packages (from boto3<1.28.18,>=1.28.17->aiobotocore[boto3]==2.6.0->aioboto3) (0.6.2)\n",
      "Requirement already satisfied: urllib3<1.27,>=1.25.4 in /home/shawn/.local/lib/python3.10/site-packages (from botocore<1.31.18,>=1.31.17->aiobotocore[boto3]==2.6.0->aioboto3) (1.26.17)\n",
      "Requirement already satisfied: python-dateutil<3.0.0,>=2.1 in /home/shawn/.local/lib/python3.10/site-packages (from botocore<1.31.18,>=1.31.17->aiobotocore[boto3]==2.6.0->aioboto3) (2.8.2)\n",
      "Requirement already satisfied: six>=1.5 in /usr/lib/python3/dist-packages (from python-dateutil<3.0.0,>=2.1->botocore<1.31.18,>=1.31.17->aiobotocore[boto3]==2.6.0->aioboto3) (1.16.0)\n",
      "Requirement already satisfied: idna>=2.0 in /home/shawn/.local/lib/python3.10/site-packages (from yarl<2.0,>=1.0->aiohttp<4.0.0,>=3.7.4.post0->aiobotocore[boto3]==2.6.0->aioboto3) (3.4)\n",
      "Note: you may need to restart the kernel to use updated packages.\n"
     ]
    }
   ],
   "source": [
    "%pip install aioboto3"
   ]
  },
  {
   "cell_type": "code",
   "execution_count": 2,
   "metadata": {},
   "outputs": [],
   "source": [
    "from utils import queue_jobs"
   ]
  }
 ],
 "metadata": {
  "kernelspec": {
   "display_name": "Python 3",
   "language": "python",
   "name": "python3"
  },
  "language_info": {
   "codemirror_mode": {
    "name": "ipython",
    "version": 3
   },
   "file_extension": ".py",
   "mimetype": "text/x-python",
   "name": "python",
   "nbconvert_exporter": "python",
   "pygments_lexer": "ipython3",
   "version": "3.10.12"
  }
 },
 "nbformat": 4,
 "nbformat_minor": 2
}
